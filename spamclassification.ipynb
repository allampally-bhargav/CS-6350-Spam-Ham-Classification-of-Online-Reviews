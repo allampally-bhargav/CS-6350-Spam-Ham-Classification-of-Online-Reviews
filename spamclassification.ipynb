{
 "cells": [
  {
   "cell_type": "code",
   "execution_count": 17,
   "metadata": {},
   "outputs": [
    {
     "data": {
      "application/vnd.jupyter.widget-view+json": {
       "model_id": "d76c6d67b69942509243789f06b54a8c",
       "version_major": 2,
       "version_minor": 0
      },
      "text/plain": [
       "VBox()"
      ]
     },
     "metadata": {},
     "output_type": "display_data"
    },
    {
     "data": {
      "application/vnd.jupyter.widget-view+json": {
       "model_id": "",
       "version_major": 2,
       "version_minor": 0
      },
      "text/plain": [
       "FloatProgress(value=0.0, bar_style='info', description='Progress:', layout=Layout(height='25px', width='50%'),…"
      ]
     },
     "metadata": {},
     "output_type": "display_data"
    },
    {
     "name": "stdout",
     "output_type": "stream",
     "text": [
      "Collecting textblob\n",
      "  Downloading https://files.pythonhosted.org/packages/60/f0/1d9bfcc8ee6b83472ec571406bd0dd51c0e6330ff1a51b2d29861d389e85/textblob-0.15.3-py2.py3-none-any.whl (636kB)\n",
      "Requirement already satisfied: nltk>=3.1 in /usr/local/lib/python3.7/site-packages (from textblob)\n",
      "Requirement already satisfied: click in /usr/local/lib64/python3.7/site-packages (from nltk>=3.1->textblob)\n",
      "Requirement already satisfied: joblib in /usr/local/lib64/python3.7/site-packages (from nltk>=3.1->textblob)\n",
      "Requirement already satisfied: regex in /usr/local/lib64/python3.7/site-packages (from nltk>=3.1->textblob)\n",
      "Requirement already satisfied: tqdm in /usr/local/lib64/python3.7/site-packages (from nltk>=3.1->textblob)\n",
      "Installing collected packages: textblob\n",
      "Successfully installed textblob-0.15.3"
     ]
    }
   ],
   "source": [
    "from pyspark import SparkContext, SparkConf\n",
    "from pyspark.sql import SparkSession\n",
    "from pyspark.sql.functions import udf\n",
    "from pyspark.sql.functions import col\n",
    "#installing python libraries\n",
    "sc.install_pypi_package(\"textblob\")\n",
    "from textblob import TextBlob\n",
    "from pyspark.sql import functions as F\n",
    "from math import *\n",
    "from pyspark.ml.linalg import Vectors\n",
    "from pyspark.ml.feature import VectorAssembler\n",
    "from pyspark.ml.feature import MaxAbsScaler\n",
    "from pyspark.ml.clustering import GaussianMixture\n",
    "from pyspark.ml.evaluation import ClusteringEvaluator\n"
   ]
  },
  {
   "cell_type": "code",
   "execution_count": 18,
   "metadata": {},
   "outputs": [
    {
     "data": {
      "application/vnd.jupyter.widget-view+json": {
       "model_id": "894abe184bdf46ce80809f0dd1680d13",
       "version_major": 2,
       "version_minor": 0
      },
      "text/plain": [
       "VBox()"
      ]
     },
     "metadata": {},
     "output_type": "display_data"
    },
    {
     "data": {
      "application/vnd.jupyter.widget-view+json": {
       "model_id": "",
       "version_major": 2,
       "version_minor": 0
      },
      "text/plain": [
       "FloatProgress(value=0.0, bar_style='info', description='Progress:', layout=Layout(height='25px', width='50%'),…"
      ]
     },
     "metadata": {},
     "output_type": "display_data"
    }
   ],
   "source": [
    "conf = SparkConf().setAppName(\"classification\").setMaster(\"spark://master:7077\")\n",
    "sc = SparkContext.getOrCreate()\n",
    "\n",
    "\n",
    "\n",
    "spark = SparkSession.builder.config( conf = conf ).appName(\"classification\").getOrCreate()"
   ]
  },
  {
   "cell_type": "code",
   "execution_count": 19,
   "metadata": {},
   "outputs": [
    {
     "data": {
      "application/vnd.jupyter.widget-view+json": {
       "model_id": "3ede63ffcd644ca2826f681933485b94",
       "version_major": 2,
       "version_minor": 0
      },
      "text/plain": [
       "VBox()"
      ]
     },
     "metadata": {},
     "output_type": "display_data"
    },
    {
     "data": {
      "application/vnd.jupyter.widget-view+json": {
       "model_id": "",
       "version_major": 2,
       "version_minor": 0
      },
      "text/plain": [
       "FloatProgress(value=0.0, bar_style='info', description='Progress:', layout=Layout(height='25px', width='50%'),…"
      ]
     },
     "metadata": {},
     "output_type": "display_data"
    }
   ],
   "source": [
    "from pyspark.sql.types import StructField,StructType,StringType,FloatType,IntegerType,DoubleType,BooleanType\n",
    "\n",
    "#defining the schema to help read the file\n",
    "DataSchema = StructType([\n",
    "    StructField(\"ID\",IntegerType(), True),\n",
    "    StructField(\"business_id\", StringType(), True), \n",
    "    StructField(\"Categories\", StringType(), True),\n",
    "    StructField(\"name\", StringType(), True),\n",
    "    StructField(\"review_count\", IntegerType(), True),\n",
    "    StructField(\"stars\", DoubleType(), True),\n",
    "    StructField(\"cool\", IntegerType(), True),\n",
    "    StructField(\"date\", StringType(), True),\n",
    "    StructField(\"funny\", IntegerType(), True),\n",
    "    StructField(\"review_id\", StringType(), True),\n",
    "    StructField(\"review_stars\", DoubleType(), True),\n",
    "    StructField(\"text\", StringType(), True),\n",
    "    StructField(\"useful\", IntegerType(), True),\n",
    "    StructField(\"user_id\", StringType(), True),\n",
    "])\n",
    "\n",
    "#reading the csv file got after preprocessing\n",
    "idframe = spark.read.format('csv').option(\"header\",\"true\").schema(DataSchema).csv(\"s3://bigdaaassignmentbucket/Reviews.csv\")\n",
    "\n",
    "# final dropping of null values if any \n",
    "udframe = idframe.dropna()"
   ]
  },
  {
   "cell_type": "code",
   "execution_count": 20,
   "metadata": {},
   "outputs": [
    {
     "data": {
      "application/vnd.jupyter.widget-view+json": {
       "model_id": "44978c59d09f4e62b90fa5bf2085c33a",
       "version_major": 2,
       "version_minor": 0
      },
      "text/plain": [
       "VBox()"
      ]
     },
     "metadata": {},
     "output_type": "display_data"
    },
    {
     "data": {
      "application/vnd.jupyter.widget-view+json": {
       "model_id": "",
       "version_major": 2,
       "version_minor": 0
      },
      "text/plain": [
       "FloatProgress(value=0.0, bar_style='info', description='Progress:', layout=Layout(height='25px', width='50%'),…"
      ]
     },
     "metadata": {},
     "output_type": "display_data"
    },
    {
     "name": "stdout",
     "output_type": "stream",
     "text": [
      "+---+--------------------+--------------------+--------------------+------------+-----+----+-------------------+-----+--------------------+------------+--------------------+------+--------------------+\n",
      "| ID|         business_id|          Categories|                name|review_count|stars|cool|               date|funny|           review_id|review_stars|                text|useful|             user_id|\n",
      "+---+--------------------+--------------------+--------------------+------------+-----+----+-------------------+-----+--------------------+------------+--------------------+------+--------------------+\n",
      "|  0|-Gh9a15ijNii-8rnp...|Auto Repair, Auto...|Volvo of Mississauga|           3|  3.5|   0|2017-06-15 21:25:56|    0|0MypdQ9_BH_-hsmUI...|         4.0|I've been there o...|     0|a05f7O5_8WZxiVKQF...|\n",
      "+---+--------------------+--------------------+--------------------+------------+-----+----+-------------------+-----+--------------------+------------+--------------------+------+--------------------+\n",
      "only showing top 1 row"
     ]
    }
   ],
   "source": [
    "idframe.show(1)"
   ]
  },
  {
   "cell_type": "code",
   "execution_count": 21,
   "metadata": {},
   "outputs": [
    {
     "data": {
      "application/vnd.jupyter.widget-view+json": {
       "model_id": "08b93259b96f4ff0b418b56b22d4c5bf",
       "version_major": 2,
       "version_minor": 0
      },
      "text/plain": [
       "VBox()"
      ]
     },
     "metadata": {},
     "output_type": "display_data"
    },
    {
     "data": {
      "application/vnd.jupyter.widget-view+json": {
       "model_id": "",
       "version_major": 2,
       "version_minor": 0
      },
      "text/plain": [
       "FloatProgress(value=0.0, bar_style='info', description='Progress:', layout=Layout(height='25px', width='50%'),…"
      ]
     },
     "metadata": {},
     "output_type": "display_data"
    }
   ],
   "source": [
    "# To construct a sepcial Feature Id using user_id, review_date, business_id\n",
    "def FeatureId (user_id, review_date, business_id):\n",
    "    return user_id + \"-\" + review_date + \"-\" + business_id\n",
    "\n",
    "# To combine \"Useful\", \"Funny\" and \"Cool\" fields into one column\n",
    "def useful_review_ct(useful, funny, cool):\n",
    "    return useful + funny + cool;\n",
    "\n",
    "# To calculate the sentiment score from data\n",
    "def get_Sentiment(data):\n",
    "    sentiment_data = TextBlob(data).sentiment.polarity\n",
    "    return sentiment_data\n",
    "\n",
    "# To compute the difference between individual value and average value\n",
    "def compute_mean_dist(meanUnit,Unit):\n",
    "     return abs(meanUnit - Unit)\n",
    "\n",
    "# To define and return the GMM model\n",
    "def gmmModel(k, dframe):\n",
    "    gmm = GaussianMixture().setK(k).setFeaturesCol(\"scaledFeatures\").setMaxIter(100)\n",
    "    model = gmm.fit(dframe)\n",
    "    return model\n",
    "    \n",
    "# To check the probability and labele it as either spam/ham\n",
    "def probDist_scan(probability):\n",
    "    return probability.toArray().tolist()[0] >= 0.90"
   ]
  },
  {
   "cell_type": "code",
   "execution_count": 22,
   "metadata": {},
   "outputs": [
    {
     "data": {
      "application/vnd.jupyter.widget-view+json": {
       "model_id": "ce40a1cd1e9d46dc97269f7a8cfd0c27",
       "version_major": 2,
       "version_minor": 0
      },
      "text/plain": [
       "VBox()"
      ]
     },
     "metadata": {},
     "output_type": "display_data"
    },
    {
     "data": {
      "application/vnd.jupyter.widget-view+json": {
       "model_id": "",
       "version_major": 2,
       "version_minor": 0
      },
      "text/plain": [
       "FloatProgress(value=0.0, bar_style='info', description='Progress:', layout=Layout(height='25px', width='50%'),…"
      ]
     },
     "metadata": {},
     "output_type": "display_data"
    }
   ],
   "source": [
    "# To generate the feature ID from the method\n",
    "FeatureId_udframe = udf(FeatureId, StringType())\n",
    "featureId_dframe = udframe.withColumn(\"feature_id\",FeatureId_udframe(udframe[\"user_id\"],udframe[\"date\"],udframe[\"business_id\"]))\n",
    "useful_review_count_udf = udf(useful_review_ct, IntegerType())"
   ]
  },
  {
   "cell_type": "code",
   "execution_count": 23,
   "metadata": {},
   "outputs": [
    {
     "data": {
      "application/vnd.jupyter.widget-view+json": {
       "model_id": "1ba750bcba9c42939dab799ecbd8dc6c",
       "version_major": 2,
       "version_minor": 0
      },
      "text/plain": [
       "VBox()"
      ]
     },
     "metadata": {},
     "output_type": "display_data"
    },
    {
     "data": {
      "application/vnd.jupyter.widget-view+json": {
       "model_id": "",
       "version_major": 2,
       "version_minor": 0
      },
      "text/plain": [
       "FloatProgress(value=0.0, bar_style='info', description='Progress:', layout=Layout(height='25px', width='50%'),…"
      ]
     },
     "metadata": {},
     "output_type": "display_data"
    },
    {
     "name": "stdout",
     "output_type": "stream",
     "text": [
      "+---+--------------------+--------------------+--------------------+------------+-----+-------------------+--------------------+------------+--------------------+--------------------+--------------------+----------------+\n",
      "| ID|         business_id|          Categories|                name|review_count|stars|               date|           review_id|review_stars|                text|             user_id|          feature_id|useful_review_ct|\n",
      "+---+--------------------+--------------------+--------------------+------------+-----+-------------------+--------------------+------------+--------------------+--------------------+--------------------+----------------+\n",
      "|  0|-Gh9a15ijNii-8rnp...|Auto Repair, Auto...|Volvo of Mississauga|           3|  3.5|2017-06-15 21:25:56|0MypdQ9_BH_-hsmUI...|         4.0|I've been there o...|a05f7O5_8WZxiVKQF...|a05f7O5_8WZxiVKQF...|               0|\n",
      "+---+--------------------+--------------------+--------------------+------------+-----+-------------------+--------------------+------------+--------------------+--------------------+--------------------+----------------+\n",
      "only showing top 1 row"
     ]
    }
   ],
   "source": [
    "# To combine all votes into one variable\n",
    "combined_dframe = featureId_dframe.withColumn(\"useful_review_ct\",useful_review_count_udf(featureId_dframe['useful'],featureId_dframe[\"funny\"],featureId_dframe[\"cool\"]))\n",
    "combined_dframe = combined_dframe.drop(\"useful\",\"funny\",\"cool\");\n",
    "combined_dframe.cache()\n",
    "combined_dframe.show(1);"
   ]
  },
  {
   "cell_type": "code",
   "execution_count": 24,
   "metadata": {},
   "outputs": [
    {
     "data": {
      "application/vnd.jupyter.widget-view+json": {
       "model_id": "7a6305e461924a4fb01eeef0117832b6",
       "version_major": 2,
       "version_minor": 0
      },
      "text/plain": [
       "VBox()"
      ]
     },
     "metadata": {},
     "output_type": "display_data"
    },
    {
     "data": {
      "application/vnd.jupyter.widget-view+json": {
       "model_id": "",
       "version_major": 2,
       "version_minor": 0
      },
      "text/plain": [
       "FloatProgress(value=0.0, bar_style='info', description='Progress:', layout=Layout(height='25px', width='50%'),…"
      ]
     },
     "metadata": {},
     "output_type": "display_data"
    },
    {
     "name": "stdout",
     "output_type": "stream",
     "text": [
      "+---+--------------------+--------------------+--------------------+------------+-----+-------------------+--------------------+------------+--------------------+--------------------+--------------------+----------------+-------------------+\n",
      "| ID|         business_id|          Categories|                name|review_count|stars|               date|           review_id|review_stars|                text|             user_id|          feature_id|useful_review_ct|    sentiment_score|\n",
      "+---+--------------------+--------------------+--------------------+------------+-----+-------------------+--------------------+------------+--------------------+--------------------+--------------------+----------------+-------------------+\n",
      "|  0|-Gh9a15ijNii-8rnp...|Auto Repair, Auto...|Volvo of Mississauga|           3|  3.5|2017-06-15 21:25:56|0MypdQ9_BH_-hsmUI...|         4.0|I've been there o...|a05f7O5_8WZxiVKQF...|a05f7O5_8WZxiVKQF...|               0|0.20000000000000004|\n",
      "+---+--------------------+--------------------+--------------------+------------+-----+-------------------+--------------------+------------+--------------------+--------------------+--------------------+----------------+-------------------+\n",
      "only showing top 1 row"
     ]
    }
   ],
   "source": [
    "# To select the feature ID for reviewing text and evaluating sentiment score\n",
    "review_Summary_dframe = combined_dframe.select(\"feature_id\",\"text\")\n",
    "sentiment_score_udframe = udf(get_Sentiment, DoubleType())\n",
    "combined_dframe = combined_dframe.dropna()\n",
    "sentiment_score_dframe = combined_dframe.withColumn(\"sentiment_score\",sentiment_score_udframe(combined_dframe[\"text\"]))\n",
    "sentiment_score_dframe.show(1)"
   ]
  },
  {
   "cell_type": "code",
   "execution_count": 25,
   "metadata": {},
   "outputs": [
    {
     "data": {
      "application/vnd.jupyter.widget-view+json": {
       "model_id": "b279f4c360ad4fedbe22c0300166eb28",
       "version_major": 2,
       "version_minor": 0
      },
      "text/plain": [
       "VBox()"
      ]
     },
     "metadata": {},
     "output_type": "display_data"
    },
    {
     "data": {
      "application/vnd.jupyter.widget-view+json": {
       "model_id": "",
       "version_major": 2,
       "version_minor": 0
      },
      "text/plain": [
       "FloatProgress(value=0.0, bar_style='info', description='Progress:', layout=Layout(height='25px', width='50%'),…"
      ]
     },
     "metadata": {},
     "output_type": "display_data"
    },
    {
     "name": "stdout",
     "output_type": "stream",
     "text": [
      "+--------------------+--------------------+-----------------+\n",
      "|         business_id|avg(sentiment_score)|avg(review_stars)|\n",
      "+--------------------+--------------------+-----------------+\n",
      "|-Gh9a15ijNii-8rnp...|0.033806818181818216|              2.5|\n",
      "+--------------------+--------------------+-----------------+\n",
      "only showing top 1 row"
     ]
    }
   ],
   "source": [
    "# To find the average of the sentiment score and the average of the review star ratings\n",
    "avg_reviewstars_dframe = sentiment_score_dframe.select(\"business_id\",\"sentiment_score\",\"review_stars\")\n",
    "avg_reviewstars_dframe = avg_reviewstars_dframe.groupBy(\"business_id\").agg({'sentiment_score':'avg', 'review_stars':'avg'})\n",
    "avg_reviewstars_dframe.cache()\n",
    "avg_reviewstars_dframe.show(1)"
   ]
  },
  {
   "cell_type": "code",
   "execution_count": 26,
   "metadata": {},
   "outputs": [
    {
     "data": {
      "application/vnd.jupyter.widget-view+json": {
       "model_id": "d48d5d95d65c4688827dad67ed7667bf",
       "version_major": 2,
       "version_minor": 0
      },
      "text/plain": [
       "VBox()"
      ]
     },
     "metadata": {},
     "output_type": "display_data"
    },
    {
     "data": {
      "application/vnd.jupyter.widget-view+json": {
       "model_id": "",
       "version_major": 2,
       "version_minor": 0
      },
      "text/plain": [
       "FloatProgress(value=0.0, bar_style='info', description='Progress:', layout=Layout(height='25px', width='50%'),…"
      ]
     },
     "metadata": {},
     "output_type": "display_data"
    },
    {
     "name": "stdout",
     "output_type": "stream",
     "text": [
      "+--------------------+--------------------+-----------------+---+--------------------+-------------------+--------------------+------------+--------------------+--------------------+--------------------+----------------+-------------------+\n",
      "|         business_id|avg(sentiment_score)|avg(review_stars)| ID|          Categories|               date|           review_id|review_stars|                text|             user_id|          feature_id|useful_review_ct|    sentiment_score|\n",
      "+--------------------+--------------------+-----------------+---+--------------------+-------------------+--------------------+------------+--------------------+--------------------+--------------------+----------------+-------------------+\n",
      "|-Gh9a15ijNii-8rnp...|0.033806818181818216|              2.5|  0|Auto Repair, Auto...|2017-06-15 21:25:56|0MypdQ9_BH_-hsmUI...|         4.0|I've been there o...|a05f7O5_8WZxiVKQF...|a05f7O5_8WZxiVKQF...|               0|0.20000000000000004|\n",
      "+--------------------+--------------------+-----------------+---+--------------------+-------------------+--------------------+------------+--------------------+--------------------+--------------------+----------------+-------------------+\n",
      "only showing top 1 row"
     ]
    }
   ],
   "source": [
    "# To merge and drop the dataframes \n",
    "avg_reviewstars_dframe = avg_reviewstars_dframe.join(sentiment_score_dframe, \"business_id\")\n",
    "avg_reviewstars_dframe = avg_reviewstars_dframe.drop(\"name\",\"stars\",\"review_count\")\n",
    "avg_reviewstars_dframe.show(1)"
   ]
  },
  {
   "cell_type": "code",
   "execution_count": 27,
   "metadata": {},
   "outputs": [
    {
     "data": {
      "application/vnd.jupyter.widget-view+json": {
       "model_id": "45ece75e255541428173f723cff5698a",
       "version_major": 2,
       "version_minor": 0
      },
      "text/plain": [
       "VBox()"
      ]
     },
     "metadata": {},
     "output_type": "display_data"
    },
    {
     "data": {
      "application/vnd.jupyter.widget-view+json": {
       "model_id": "",
       "version_major": 2,
       "version_minor": 0
      },
      "text/plain": [
       "FloatProgress(value=0.0, bar_style='info', description='Progress:', layout=Layout(height='25px', width='50%'),…"
      ]
     },
     "metadata": {},
     "output_type": "display_data"
    },
    {
     "name": "stdout",
     "output_type": "stream",
     "text": [
      "+--------------------+--------------------+-----------------+---+--------------------+-------------------+--------------------+------------+--------------------+--------------------+--------------------+----------------+-------------------+-------------------+\n",
      "|         business_id|avg(sentiment_score)|avg(review_stars)| ID|          Categories|               date|           review_id|review_stars|                text|             user_id|          feature_id|useful_review_ct|    sentiment_score|     dist_sentiment|\n",
      "+--------------------+--------------------+-----------------+---+--------------------+-------------------+--------------------+------------+--------------------+--------------------+--------------------+----------------+-------------------+-------------------+\n",
      "|-Gh9a15ijNii-8rnp...|0.033806818181818216|              2.5|  0|Auto Repair, Auto...|2017-06-15 21:25:56|0MypdQ9_BH_-hsmUI...|         4.0|I've been there o...|a05f7O5_8WZxiVKQF...|a05f7O5_8WZxiVKQF...|               0|0.20000000000000004|0.16619318181818182|\n",
      "+--------------------+--------------------+-----------------+---+--------------------+-------------------+--------------------+------------+--------------------+--------------------+--------------------+----------------+-------------------+-------------------+\n",
      "only showing top 1 row"
     ]
    }
   ],
   "source": [
    "mean_dframe = udf(compute_mean_dist, DoubleType())\n",
    "\n",
    "# To compute distance between Average score and the individual score\n",
    "dSentiment_dframe =  avg_reviewstars_dframe.withColumn(\"dist_sentiment\",mean_dframe(avg_reviewstars_dframe[\"avg(sentiment_score)\"],avg_reviewstars_dframe[\"sentiment_score\"]))\n",
    "dSentiment_dframe.show(1)"
   ]
  },
  {
   "cell_type": "code",
   "execution_count": 28,
   "metadata": {},
   "outputs": [
    {
     "data": {
      "application/vnd.jupyter.widget-view+json": {
       "model_id": "0caab3fd70a149ca8af50cc15f92125b",
       "version_major": 2,
       "version_minor": 0
      },
      "text/plain": [
       "VBox()"
      ]
     },
     "metadata": {},
     "output_type": "display_data"
    },
    {
     "data": {
      "application/vnd.jupyter.widget-view+json": {
       "model_id": "",
       "version_major": 2,
       "version_minor": 0
      },
      "text/plain": [
       "FloatProgress(value=0.0, bar_style='info', description='Progress:', layout=Layout(height='25px', width='50%'),…"
      ]
     },
     "metadata": {},
     "output_type": "display_data"
    },
    {
     "name": "stdout",
     "output_type": "stream",
     "text": [
      "+--------------------+--------------------+-----------------+---+--------------------+-------------------+--------------------+------------+--------------------+--------------------+--------------------+----------------+-------------------+-------------------+-----------------+\n",
      "|         business_id|avg(sentiment_score)|avg(review_stars)| ID|          Categories|               date|           review_id|review_stars|                text|             user_id|          feature_id|useful_review_ct|    sentiment_score|     dist_sentiment|dist_review_stars|\n",
      "+--------------------+--------------------+-----------------+---+--------------------+-------------------+--------------------+------------+--------------------+--------------------+--------------------+----------------+-------------------+-------------------+-----------------+\n",
      "|-Gh9a15ijNii-8rnp...|0.033806818181818216|              2.5|  0|Auto Repair, Auto...|2017-06-15 21:25:56|0MypdQ9_BH_-hsmUI...|         4.0|I've been there o...|a05f7O5_8WZxiVKQF...|a05f7O5_8WZxiVKQF...|               0|0.20000000000000004|0.16619318181818182|              1.5|\n",
      "+--------------------+--------------------+-----------------+---+--------------------+-------------------+--------------------+------------+--------------------+--------------------+--------------------+----------------+-------------------+-------------------+-----------------+\n",
      "only showing top 1 row"
     ]
    }
   ],
   "source": [
    "# To compute distance between Average score and the individual score\n",
    "dReview_stars_dframe =  dSentiment_dframe.withColumn(\"dist_review_stars\",mean_dframe(dSentiment_dframe[\"avg(review_stars)\"],dSentiment_dframe[\"review_stars\"]))\n",
    "dReview_stars_dframe.show(1)                                                \n",
    "                                                               "
   ]
  },
  {
   "cell_type": "code",
   "execution_count": 29,
   "metadata": {},
   "outputs": [
    {
     "data": {
      "application/vnd.jupyter.widget-view+json": {
       "model_id": "a3d0bc221cea4e8f959db22065b3de8d",
       "version_major": 2,
       "version_minor": 0
      },
      "text/plain": [
       "VBox()"
      ]
     },
     "metadata": {},
     "output_type": "display_data"
    },
    {
     "data": {
      "application/vnd.jupyter.widget-view+json": {
       "model_id": "",
       "version_major": 2,
       "version_minor": 0
      },
      "text/plain": [
       "FloatProgress(value=0.0, bar_style='info', description='Progress:', layout=Layout(height='25px', width='50%'),…"
      ]
     },
     "metadata": {},
     "output_type": "display_data"
    },
    {
     "name": "stdout",
     "output_type": "stream",
     "text": [
      "+--------------------+--------------------+-----------------+---+--------------------+-------------------+--------------------+------------+--------------------+--------------------+--------------------+----------------+-------------------+-------------------+-----------------+--------------------+\n",
      "|         business_id|avg(sentiment_score)|avg(review_stars)| ID|          Categories|               date|           review_id|review_stars|                text|             user_id|          feature_id|useful_review_ct|    sentiment_score|     dist_sentiment|dist_review_stars|            features|\n",
      "+--------------------+--------------------+-----------------+---+--------------------+-------------------+--------------------+------------+--------------------+--------------------+--------------------+----------------+-------------------+-------------------+-----------------+--------------------+\n",
      "|-Gh9a15ijNii-8rnp...|0.033806818181818216|              2.5|  0|Auto Repair, Auto...|2017-06-15 21:25:56|0MypdQ9_BH_-hsmUI...|         4.0|I've been there o...|a05f7O5_8WZxiVKQF...|a05f7O5_8WZxiVKQF...|               0|0.20000000000000004|0.16619318181818182|              1.5|[0.16619318181818...|\n",
      "+--------------------+--------------------+-----------------+---+--------------------+-------------------+--------------------+------------+--------------------+--------------------+--------------------+----------------+-------------------+-------------------+-----------------+--------------------+\n",
      "only showing top 1 row"
     ]
    }
   ],
   "source": [
    "# To generate the features\n",
    "features_assembler_dframe = VectorAssembler(\n",
    "    inputCols=[\"dist_sentiment\", \"dist_review_stars\", \"useful_review_ct\"],\n",
    "    outputCol=\"features\")\n",
    "\n",
    "features_dframe= features_assembler_dframe.transform (dReview_stars_dframe)\n",
    "features_dframe.show(1)"
   ]
  },
  {
   "cell_type": "code",
   "execution_count": 31,
   "metadata": {},
   "outputs": [
    {
     "data": {
      "application/vnd.jupyter.widget-view+json": {
       "model_id": "077cbebf7cc945f8a5e543a37910d2d7",
       "version_major": 2,
       "version_minor": 0
      },
      "text/plain": [
       "VBox()"
      ]
     },
     "metadata": {},
     "output_type": "display_data"
    },
    {
     "data": {
      "application/vnd.jupyter.widget-view+json": {
       "model_id": "",
       "version_major": 2,
       "version_minor": 0
      },
      "text/plain": [
       "FloatProgress(value=0.0, bar_style='info', description='Progress:', layout=Layout(height='25px', width='50%'),…"
      ]
     },
     "metadata": {},
     "output_type": "display_data"
    }
   ],
   "source": [
    "# To Standardise and compute statistics of the model using MaxAbsScalar\n",
    "scaler_feat = MaxAbsScaler(inputCol=\"features\", outputCol=\"scaledFeatures\")\n",
    "scaler_Model = scaler_feat.fit(features_dframe)\n",
    "transformed_scaleData = scaler_Model.transform(features_dframe)"
   ]
  },
  {
   "cell_type": "code",
   "execution_count": 33,
   "metadata": {},
   "outputs": [
    {
     "data": {
      "application/vnd.jupyter.widget-view+json": {
       "model_id": "9c0c47458d1a44029df069d8d9dfe38f",
       "version_major": 2,
       "version_minor": 0
      },
      "text/plain": [
       "VBox()"
      ]
     },
     "metadata": {},
     "output_type": "display_data"
    },
    {
     "data": {
      "application/vnd.jupyter.widget-view+json": {
       "model_id": "",
       "version_major": 2,
       "version_minor": 0
      },
      "text/plain": [
       "FloatProgress(value=0.0, bar_style='info', description='Progress:', layout=Layout(height='25px', width='50%'),…"
      ]
     },
     "metadata": {},
     "output_type": "display_data"
    }
   ],
   "source": [
    "# To create a dataframe which stores the output of computations\n",
    "dataSchema = StructType([\n",
    "    StructField(\"Silhouette_distance\", DoubleType(), True),\n",
    "    StructField(\"k\", IntegerType(), True)        \n",
    "])\n",
    "\n",
    "k_silhouette_dframe = spark.createDataFrame(sc.emptyRDD(), dataSchema)\n",
    "probability_distribution_scan_udf = udf(probDist_scan,  BooleanType())"
   ]
  },
  {
   "cell_type": "code",
   "execution_count": 35,
   "metadata": {},
   "outputs": [
    {
     "data": {
      "application/vnd.jupyter.widget-view+json": {
       "model_id": "6d304fdee7e0443492651d76f8fca3f5",
       "version_major": 2,
       "version_minor": 0
      },
      "text/plain": [
       "VBox()"
      ]
     },
     "metadata": {},
     "output_type": "display_data"
    },
    {
     "data": {
      "application/vnd.jupyter.widget-view+json": {
       "model_id": "",
       "version_major": 2,
       "version_minor": 0
      },
      "text/plain": [
       "FloatProgress(value=0.0, bar_style='info', description='Progress:', layout=Layout(height='25px', width='50%'),…"
      ]
     },
     "metadata": {},
     "output_type": "display_data"
    },
    {
     "name": "stdout",
     "output_type": "stream",
     "text": [
      "+-------------------+---+\n",
      "|Silhouette_distance|  k|\n",
      "+-------------------+---+\n",
      "|0.11950472014657175|  2|\n",
      "+-------------------+---+\n",
      "only showing top 1 row"
     ]
    }
   ],
   "source": [
    "# To iterate the model on various k values for evaluation\n",
    "k=2\n",
    "distance_array = []\n",
    "while (k <= 8) :\n",
    "    gmm = gmmModel(k,transformed_scaleData)\n",
    "    gmmTransform = gmm.transform(transformed_scaleData)\n",
    "    cosEvaluator = ClusteringEvaluator().setDistanceMeasure (\"cosine\")\n",
    "    silhouetteDist = cosEvaluator.evaluate(gmmTransform);\n",
    "    tupleRow = spark.createDataFrame([{\"k\": k, \"Silhouette_distance\": silhouetteDist}])\n",
    "    k_silhouette_dframe = k_silhouette_dframe.union(tupleRow)\n",
    "    distance_array.append(silhouetteDist)\n",
    "    review_dframe = gmmTransform.withColumn(\"isHam\",probability_distribution_scan_udf(gmmTransform[\"probability\"]))\n",
    "    ureview_dframe = review_dframe.select(\"business_id\",\"user_id\",\"review_id\",\"prediction\",\"isHam\")\n",
    "    ureview_dframe.write.csv(\"s3://bigdaaassignmentbucket/out/final\"+str(k))\n",
    "    if k== 2:\n",
    "        k_silhouette_dframe.show(1)\n",
    "    \n",
    "    k = k+1;\n",
    "\n",
    "k_silhouette_dframe.write.csv(\"s3://bigdaaassignmentbucket/out/s_new_distance11\")"
   ]
  },
  {
   "cell_type": "code",
   "execution_count": 37,
   "metadata": {},
   "outputs": [
    {
     "data": {
      "application/vnd.jupyter.widget-view+json": {
       "model_id": "b0290b26656e46c1b30dc3a988dd42e8",
       "version_major": 2,
       "version_minor": 0
      },
      "text/plain": [
       "VBox()"
      ]
     },
     "metadata": {},
     "output_type": "display_data"
    },
    {
     "data": {
      "application/vnd.jupyter.widget-view+json": {
       "model_id": "",
       "version_major": 2,
       "version_minor": 0
      },
      "text/plain": [
       "FloatProgress(value=0.0, bar_style='info', description='Progress:', layout=Layout(height='25px', width='50%'),…"
      ]
     },
     "metadata": {},
     "output_type": "display_data"
    },
    {
     "name": "stdout",
     "output_type": "stream",
     "text": [
      "+--------------------+---+\n",
      "| Silhouette_distance|  k|\n",
      "+--------------------+---+\n",
      "| 0.11950472014657175|  2|\n",
      "| 0.11950472014657175|  2|\n",
      "| -0.0634518694278572|  3|\n",
      "|-0.10135028043040387|  4|\n",
      "|-0.15671248130914417|  5|\n",
      "| -0.0795122407621355|  6|\n",
      "|-0.05629476779391...|  7|\n",
      "|-0.08737859156300563|  8|\n",
      "+--------------------+---+"
     ]
    }
   ],
   "source": [
    " k_silhouette_dframe.show()"
   ]
  },
  {
   "cell_type": "code",
   "execution_count": null,
   "metadata": {},
   "outputs": [],
   "source": []
  }
 ],
 "metadata": {
  "kernelspec": {
   "display_name": "PySpark",
   "language": "",
   "name": "pysparkkernel"
  },
  "language_info": {
   "codemirror_mode": {
    "name": "python",
    "version": 3
   },
   "mimetype": "text/x-python",
   "name": "pyspark",
   "pygments_lexer": "python3"
  }
 },
 "nbformat": 4,
 "nbformat_minor": 4
}
