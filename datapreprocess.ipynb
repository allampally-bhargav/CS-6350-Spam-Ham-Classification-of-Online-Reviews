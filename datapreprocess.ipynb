{
 "cells": [
  {
   "cell_type": "code",
   "execution_count": null,
   "metadata": {},
   "outputs": [
    {
     "data": {
      "application/vnd.jupyter.widget-view+json": {
       "model_id": "b340438b7c794be4be69eb8b12f4c1e2",
       "version_major": 2,
       "version_minor": 0
      },
      "text/plain": [
       "VBox()"
      ]
     },
     "metadata": {},
     "output_type": "display_data"
    },
    {
     "data": {
      "application/vnd.jupyter.widget-view+json": {
       "model_id": "",
       "version_major": 2,
       "version_minor": 0
      },
      "text/plain": [
       "FloatProgress(value=0.0, bar_style='info', description='Progress:', layout=Layout(height='25px', width='50%'),…"
      ]
     },
     "metadata": {},
     "output_type": "display_data"
    }
   ],
   "source": [
    "import pyspark\n",
    "from pyspark.sql import SparkSession\n",
    "spark = SparkSession.builder.getOrCreate()"
   ]
  },
  {
   "cell_type": "code",
   "execution_count": 1,
   "metadata": {},
   "outputs": [
    {
     "data": {
      "application/vnd.jupyter.widget-view+json": {
       "model_id": "ac8471d4b8ca4fb0ac8bfb4fd1c6daa8",
       "version_major": 2,
       "version_minor": 0
      },
      "text/plain": [
       "VBox()"
      ]
     },
     "metadata": {},
     "output_type": "display_data"
    },
    {
     "name": "stdout",
     "output_type": "stream",
     "text": [
      "Starting Spark application\n"
     ]
    },
    {
     "data": {
      "text/html": [
       "<table>\n",
       "<tr><th>ID</th><th>YARN Application ID</th><th>Kind</th><th>State</th><th>Spark UI</th><th>Driver log</th><th>Current session?</th></tr><tr><td>1</td><td>application_1606327692812_0002</td><td>pyspark</td><td>idle</td><td><a target=\"_blank\" href=\"http://ip-172-31-82-10.ec2.internal:20888/proxy/application_1606327692812_0002/\" >Link</a></td><td><a target=\"_blank\" href=\"http://ip-172-31-92-119.ec2.internal:8042/node/containerlogs/container_1606327692812_0002_01_000001/livy\" >Link</a></td><td>✔</td></tr></table>"
      ],
      "text/plain": [
       "<IPython.core.display.HTML object>"
      ]
     },
     "metadata": {},
     "output_type": "display_data"
    },
    {
     "data": {
      "application/vnd.jupyter.widget-view+json": {
       "model_id": "",
       "version_major": 2,
       "version_minor": 0
      },
      "text/plain": [
       "FloatProgress(value=0.0, bar_style='info', description='Progress:', layout=Layout(height='25px', width='50%'),…"
      ]
     },
     "metadata": {},
     "output_type": "display_data"
    },
    {
     "name": "stdout",
     "output_type": "stream",
     "text": [
      "SparkSession available as 'spark'.\n"
     ]
    },
    {
     "data": {
      "application/vnd.jupyter.widget-view+json": {
       "model_id": "",
       "version_major": 2,
       "version_minor": 0
      },
      "text/plain": [
       "FloatProgress(value=0.0, bar_style='info', description='Progress:', layout=Layout(height='25px', width='50%'),…"
      ]
     },
     "metadata": {},
     "output_type": "display_data"
    },
    {
     "name": "stdout",
     "output_type": "stream",
     "text": [
      "+--------------------+--------------------+--------------------+--------------------+---------------+--------------------+-------+----------+------------+--------------------+-----------+------------+-----+-----+\n",
      "|             address|          attributes|         business_id|          categories|           city|               hours|is_open|  latitude|   longitude|                name|postal_code|review_count|stars|state|\n",
      "+--------------------+--------------------+--------------------+--------------------+---------------+--------------------+-------+----------+------------+--------------------+-----------+------------+-----+-----+\n",
      "|     10913 Bailey Rd|[,,,,,,, True,, T...|f9NumwFMBDn751xgF...|Active Life, Gun/...|      Cornelius|[11:0-20:0, 10:0-...|      1|35.4627242| -80.8526119|The Range At Lake...|      28031|          36|  3.5|   NC|\n",
      "|8880 E Via Linda,...|[,,,,,,,,,,, True...|Yzvjg0SayhoZgCljU...|Health & Medical,...|     Scottsdale|                null|      1|33.5694041|-111.8902637|   Carlos Santo, NMD|      85258|           4|  5.0|   AZ|\n",
      "|3554 Rue Notre-Da...|                null|XNoUzKckATkOD1hP6...|Pets, Pet Service...|       Montreal|                null|      1| 45.479984|   -73.58007|             Felinus|    H4C 1P4|           5|  5.0|   QC|\n",
      "|      1015 Sharp Cir|[,,,,,,, True,, T...|6OAZjbxqM5ol29BuH...|Hardware Stores, ...|North Las Vegas|[7:0-16:0, 7:0-16...|      0|36.2197281|-115.1277255|Nevada House of Hose|      89030|           3|  2.5|   NV|\n",
      "|  4827 E Downing Cir|[,,,,,,,,, True,,...|51M2Kk903DFYI6gnB...|Home Services, Pl...|           Mesa|[9:0-16:0, 0:0-0:...|      1|33.4280652|-111.7266485|USE MY GUY SERVIC...|      85205|          26|  4.5|   AZ|\n",
      "+--------------------+--------------------+--------------------+--------------------+---------------+--------------------+-------+----------+------------+--------------------+-----------+------------+-----+-----+\n",
      "only showing top 5 rows"
     ]
    }
   ],
   "source": [
    "#reading business json file using spark\n",
    "business_df = spark.read.json('s3://bigdaaassignmentbucket/yelp_academic_dataset_business.json')\n",
    "#converting from json into a dataframe\n",
    "business_df.createOrReplaceTempView(\"business\")\n",
    "business_frame_df = spark.sql(\"SELECT * FROM business\")\n",
    "business_frame_df.show(5)"
   ]
  },
  {
   "cell_type": "code",
   "execution_count": 2,
   "metadata": {},
   "outputs": [
    {
     "data": {
      "application/vnd.jupyter.widget-view+json": {
       "model_id": "16d72ddb73a341a08a3fea98f5be87ec",
       "version_major": 2,
       "version_minor": 0
      },
      "text/plain": [
       "VBox()"
      ]
     },
     "metadata": {},
     "output_type": "display_data"
    },
    {
     "data": {
      "application/vnd.jupyter.widget-view+json": {
       "model_id": "",
       "version_major": 2,
       "version_minor": 0
      },
      "text/plain": [
       "FloatProgress(value=0.0, bar_style='info', description='Progress:', layout=Layout(height='25px', width='50%'),…"
      ]
     },
     "metadata": {},
     "output_type": "display_data"
    },
    {
     "name": "stdout",
     "output_type": "stream",
     "text": [
      "+--------------------+--------------------+--------------------+--------------------+----------+-------+--------------------+------------+-----+-----+\n",
      "|             address|          attributes|         business_id|          categories|      city|is_open|                name|review_count|stars|state|\n",
      "+--------------------+--------------------+--------------------+--------------------+----------+-------+--------------------+------------+-----+-----+\n",
      "|     10913 Bailey Rd|[,,,,,,, True,, T...|f9NumwFMBDn751xgF...|Active Life, Gun/...| Cornelius|      1|The Range At Lake...|          36|  3.5|   NC|\n",
      "|8880 E Via Linda,...|[,,,,,,,,,,, True...|Yzvjg0SayhoZgCljU...|Health & Medical,...|Scottsdale|      1|   Carlos Santo, NMD|           4|  5.0|   AZ|\n",
      "|3554 Rue Notre-Da...|                null|XNoUzKckATkOD1hP6...|Pets, Pet Service...|  Montreal|      1|             Felinus|           5|  5.0|   QC|\n",
      "|  4827 E Downing Cir|[,,,,,,,,, True,,...|51M2Kk903DFYI6gnB...|Home Services, Pl...|      Mesa|      1|USE MY GUY SERVIC...|          26|  4.5|   AZ|\n",
      "|1720 W Elliot Rd,...|[,,,,,,,,, True,,...|cKyLV5oWZJ2NudWgq...|Auto Repair, Auto...|   Gilbert|      1|Oasis Auto Center...|          38|  4.5|   AZ|\n",
      "+--------------------+--------------------+--------------------+--------------------+----------+-------+--------------------+------------+-----+-----+\n",
      "only showing top 5 rows"
     ]
    }
   ],
   "source": [
    "#dropping all the unwanted columns\n",
    "business_frame_df = business_frame_df.drop('hours','latitude','longitude','postal_code')\n",
    "#choosing open only businesses\n",
    "openbusiness_data = business_frame_df[business_frame_df['is_open']==1]\n",
    "openbusiness_data.show(5)"
   ]
  },
  {
   "cell_type": "code",
   "execution_count": 3,
   "metadata": {},
   "outputs": [
    {
     "data": {
      "application/vnd.jupyter.widget-view+json": {
       "model_id": "2022453074dc431bb4e8999b748cf001",
       "version_major": 2,
       "version_minor": 0
      },
      "text/plain": [
       "VBox()"
      ]
     },
     "metadata": {},
     "output_type": "display_data"
    },
    {
     "data": {
      "application/vnd.jupyter.widget-view+json": {
       "model_id": "",
       "version_major": 2,
       "version_minor": 0
      },
      "text/plain": [
       "FloatProgress(value=0.0, bar_style='info', description='Progress:', layout=Layout(height='25px', width='50%'),…"
      ]
     },
     "metadata": {},
     "output_type": "display_data"
    },
    {
     "name": "stdout",
     "output_type": "stream",
     "text": [
      "+--------------------+--------------------+--------------------+--------------------+----------+--------------------+------------+-----+-----+\n",
      "|             address|          attributes|         business_id|          categories|      city|                name|review_count|stars|state|\n",
      "+--------------------+--------------------+--------------------+--------------------+----------+--------------------+------------+-----+-----+\n",
      "|1720 W Elliot Rd,...|[,,,,,,,,, True,,...|cKyLV5oWZJ2NudWgq...|Auto Repair, Auto...|   Gilbert|Oasis Auto Center...|          38|  4.5|   AZ|\n",
      "| 6910 E Southern Ave|[,,,,,,,,, True,,...|ScYkbYNkDgCneBrD9...|Auto Repair, Oil ...|      Mesa|Junction Tire & A...|          18|  5.0|   AZ|\n",
      "|1110 Saw Mill Run...|[,,,,,,,,, True,,...|7Dv4_HAxsxvadEsT5...|Automotive, Auto ...|Pittsburgh|Dependable Brakes...|           5|  5.0|   PA|\n",
      "|      2915 Cherry Rd|[,,,,,,,,, True,,...|edQoeeBFUTYGwnUSE...|Auto Customizatio...| Rock Hill|            Car Guyz|          10|  4.5|   SC|\n",
      "|5201 E Independen...|[,,,,,,,,, True,,...|0pOlmHVeidsh63iAW...|Auto Repair, Car ...| Charlotte|Hendrick Motors o...|          32|  2.5|   NC|\n",
      "+--------------------+--------------------+--------------------+--------------------+----------+--------------------+------------+-----+-----+\n",
      "only showing top 5 rows"
     ]
    }
   ],
   "source": [
    "#choosing automotive business among all businesses\n",
    "automotive_data = openbusiness_data.filter(\"categories like '%Automotive%'\")\n",
    "#Dropping is-open column as it is no longer needed\n",
    "automotive_data = automotive_data.drop('is_open')\n",
    "automotive_data.show(5)"
   ]
  },
  {
   "cell_type": "code",
   "execution_count": 4,
   "metadata": {},
   "outputs": [
    {
     "data": {
      "application/vnd.jupyter.widget-view+json": {
       "model_id": "40da8917df3640f3b1d5bacb4e7a891c",
       "version_major": 2,
       "version_minor": 0
      },
      "text/plain": [
       "VBox()"
      ]
     },
     "metadata": {},
     "output_type": "display_data"
    },
    {
     "data": {
      "application/vnd.jupyter.widget-view+json": {
       "model_id": "",
       "version_major": 2,
       "version_minor": 0
      },
      "text/plain": [
       "FloatProgress(value=0.0, bar_style='info', description='Progress:', layout=Layout(height='25px', width='50%'),…"
      ]
     },
     "metadata": {},
     "output_type": "display_data"
    },
    {
     "name": "stdout",
     "output_type": "stream",
     "text": [
      "(13149, 9)"
     ]
    }
   ],
   "source": [
    "#getting the total number of rows and columns for the automotive business\n",
    "print((automotive_data.count(), len(automotive_data.columns)))"
   ]
  },
  {
   "cell_type": "code",
   "execution_count": 5,
   "metadata": {},
   "outputs": [
    {
     "data": {
      "application/vnd.jupyter.widget-view+json": {
       "model_id": "25ddf4b8f4c94c02b91f4ddb089fae51",
       "version_major": 2,
       "version_minor": 0
      },
      "text/plain": [
       "VBox()"
      ]
     },
     "metadata": {},
     "output_type": "display_data"
    },
    {
     "data": {
      "application/vnd.jupyter.widget-view+json": {
       "model_id": "",
       "version_major": 2,
       "version_minor": 0
      },
      "text/plain": [
       "FloatProgress(value=0.0, bar_style='info', description='Progress:', layout=Layout(height='25px', width='50%'),…"
      ]
     },
     "metadata": {},
     "output_type": "display_data"
    },
    {
     "name": "stdout",
     "output_type": "stream",
     "text": [
      "+--------------------+----+-------------------+-----+--------------------+------------+--------------------+------+--------------------+\n",
      "|         business_id|cool|               date|funny|           review_id|review_stars|                text|useful|             user_id|\n",
      "+--------------------+----+-------------------+-----+--------------------+------------+--------------------+------+--------------------+\n",
      "|-MhfebM0QIsKt87iD...|   0|2015-04-15 05:21:16|    0|xQY8N_XvtGbearJ5X...|         2.0|As someone who ha...|     5|OwjRMXRC0KyPrIlcj...|\n",
      "|lbrU8StCq3yDfr-QM...|   0|2013-12-07 03:16:52|    1|UmFMZ8PyXZTY2Qcwz...|         1.0|I am actually hor...|     1|nIJD_7ZXHq-FX8byP...|\n",
      "|HQl28KMwrEKHqhFrr...|   0|2015-12-05 03:18:11|    0|LG2ZaYiOgpr2DK_90...|         5.0|I love Deagan's. ...|     1|V34qejxNsCbcgD8C0...|\n",
      "|5JxlZaqCnk1MnbgRi...|   0|2011-05-27 05:30:52|    0|i6g_oA9Yf9Y31qt0w...|         1.0|Dismal, lukewarm,...|     0|ofKDkJKXSKZXu5xJN...|\n",
      "|IS4cv902ykd8wj1TR...|   0|2017-01-14 21:56:57|    0|6TdNDKywdbjoTkize...|         4.0|Oh happy day, fin...|     0|UgMW8bLE0QMJDCkQ1...|\n",
      "+--------------------+----+-------------------+-----+--------------------+------------+--------------------+------+--------------------+\n",
      "only showing top 5 rows"
     ]
    }
   ],
   "source": [
    "#reading the yelp reviews json file\n",
    "reviews_df = spark.read.json('s3://bigdaaassignmentbucket/yelp_academic_dataset_review.json')\n",
    "reviews_df.createOrReplaceTempView(\"reviews\")\n",
    "reviews_data = spark.sql(\"SELECT * FROM reviews\")\n",
    "#converting json file into reviews dataframe\n",
    "reviews = reviews_data.withColumnRenamed('stars','review_stars')\n",
    "reviews.show(5)"
   ]
  },
  {
   "cell_type": "code",
   "execution_count": 6,
   "metadata": {},
   "outputs": [
    {
     "data": {
      "application/vnd.jupyter.widget-view+json": {
       "model_id": "d77f76792c6546e98fbd26922aaff349",
       "version_major": 2,
       "version_minor": 0
      },
      "text/plain": [
       "VBox()"
      ]
     },
     "metadata": {},
     "output_type": "display_data"
    },
    {
     "data": {
      "application/vnd.jupyter.widget-view+json": {
       "model_id": "",
       "version_major": 2,
       "version_minor": 0
      },
      "text/plain": [
       "FloatProgress(value=0.0, bar_style='info', description='Progress:', layout=Layout(height='25px', width='50%'),…"
      ]
     },
     "metadata": {},
     "output_type": "display_data"
    },
    {
     "name": "stdout",
     "output_type": "stream",
     "text": [
      "+--------------------+--------------+--------------------+--------------------+------+-----------------+------------+-----+-----+----+-------------------+-----+--------------------+------------+--------------------+------+--------------------+\n",
      "|         business_id|       address|          attributes|          categories|  city|             name|review_count|stars|state|cool|               date|funny|           review_id|review_stars|                text|useful|             user_id|\n",
      "+--------------------+--------------+--------------------+--------------------+------+-----------------+------------+-----+-----+----+-------------------+-----+--------------------+------------+--------------------+------+--------------------+\n",
      "|2YUfXT7A-3rsDdWb_...|8369 W Bell Rd|[,,,,,,,,, True,,...|Car Wash, Automot...|Peoria|Jacksons Car Wash|         140|  2.5|   AZ|   0|2015-07-03 19:39:32|    0|feTHDWTHatdKxRI_0...|         2.0|I agree with what...|     0|zHXaFli3mO7CRPzLd...|\n",
      "|2YUfXT7A-3rsDdWb_...|8369 W Bell Rd|[,,,,,,,,, True,,...|Car Wash, Automot...|Peoria|Jacksons Car Wash|         140|  2.5|   AZ|   0|2018-04-28 08:46:38|    0|zXWpDfvkIzkJ9IakN...|         1.0|I stopped by here...|     0|IMSYICRFtm7LONgxl...|\n",
      "|2YUfXT7A-3rsDdWb_...|8369 W Bell Rd|[,,,,,,,,, True,,...|Car Wash, Automot...|Peoria|Jacksons Car Wash|         140|  2.5|   AZ|   0|2017-07-08 20:56:34|    0|S-r6tJKbf15_okhe7...|         5.0|Had a ding fixed ...|     0|WyHb62Lh3S40S5RG1...|\n",
      "|2YUfXT7A-3rsDdWb_...|8369 W Bell Rd|[,,,,,,,,, True,,...|Car Wash, Automot...|Peoria|Jacksons Car Wash|         140|  2.5|   AZ|   0|2016-03-17 19:49:45|    0|MPmNj1UN2sTk2AzqJ...|         1.0|DO NOT GO TO THIS...|     1|r875PXMu_SRwzAZft...|\n",
      "|2YUfXT7A-3rsDdWb_...|8369 W Bell Rd|[,,,,,,,,, True,,...|Car Wash, Automot...|Peoria|Jacksons Car Wash|         140|  2.5|   AZ|   0|2015-12-05 17:55:35|    0|FssGXKrNZYHXMu-Nt...|         5.0|They were fast ev...|     0|8qLRLLvhpg8a0XQOW...|\n",
      "+--------------------+--------------+--------------------+--------------------+------+-----------------+------------+-----+-----+----+-------------------+-----+--------------------+------------+--------------------+------+--------------------+\n",
      "only showing top 5 rows"
     ]
    }
   ],
   "source": [
    "#merging both business and reviews dataframe to get reviews of the automotive.\n",
    "combined_data = automotive_data.join(reviews, on=['business_id'], how='inner')\n",
    "combined_data.show(5)"
   ]
  },
  {
   "cell_type": "code",
   "execution_count": 7,
   "metadata": {},
   "outputs": [
    {
     "data": {
      "application/vnd.jupyter.widget-view+json": {
       "model_id": "5e8eba01c5734db3a7cb3651ba4f3626",
       "version_major": 2,
       "version_minor": 0
      },
      "text/plain": [
       "VBox()"
      ]
     },
     "metadata": {},
     "output_type": "display_data"
    },
    {
     "data": {
      "application/vnd.jupyter.widget-view+json": {
       "model_id": "",
       "version_major": 2,
       "version_minor": 0
      },
      "text/plain": [
       "FloatProgress(value=0.0, bar_style='info', description='Progress:', layout=Layout(height='25px', width='50%'),…"
      ]
     },
     "metadata": {},
     "output_type": "display_data"
    }
   ],
   "source": [
    "#dropping few unwanted columns\n",
    "combined_data = combined_data.drop('address','attributes','state','city')\n",
    "#writing into csv file\n",
    "combined_data.coalesce(1).write.csv(\"s3://bigdaaassignmentbucket/Reviews.csv\")"
   ]
  }
 ],
 "metadata": {
  "kernelspec": {
   "display_name": "PySpark",
   "language": "",
   "name": "pysparkkernel"
  },
  "language_info": {
   "codemirror_mode": {
    "name": "python",
    "version": 3
   },
   "mimetype": "text/x-python",
   "name": "pyspark",
   "pygments_lexer": "python3"
  }
 },
 "nbformat": 4,
 "nbformat_minor": 4
}
