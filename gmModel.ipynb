{
 "cells": [
  {
   "cell_type": "code",
   "execution_count": 1,
   "metadata": {},
   "outputs": [],
   "source": [
    "from builtins import range, input\n",
    "import numpy as numpy"
   ]
  },
  {
   "cell_type": "code",
   "execution_count": 6,
   "metadata": {},
   "outputs": [
    {
     "data": {
      "application/vnd.jupyter.widget-view+json": {
       "model_id": "2a05ed4980d945a882ee74da018b1dfc",
       "version_major": 2,
       "version_minor": 0
      },
      "text/plain": [
       "VBox()"
      ]
     },
     "metadata": {},
     "output_type": "display_data"
    },
    {
     "data": {
      "application/vnd.jupyter.widget-view+json": {
       "model_id": "",
       "version_major": 2,
       "version_minor": 0
      },
      "text/plain": [
       "FloatProgress(value=0.0, bar_style='info', description='Progress:', layout=Layout(height='25px', width='50%'),…"
      ]
     },
     "metadata": {},
     "output_type": "display_data"
    }
   ],
   "source": [
    "def gmModel(inputData, k_value, iterations = 10, alpha = 0.01):\n",
    "    row, column = inputData.shape\n",
    "    c1 = numpy.zeros((k_value, column, column))\n",
    "    p1 = numpy.ones(k_value) / k_value  \n",
    "    m1 = numpy.zeros((k_value, column))\n",
    "    r1 = numpy.zeros((row, k_value))\n",
    "   \n",
    "\n",
    "    for i in range(k_value):\n",
    "        c1[i] = numpy.eye(column)\n",
    "        m1[i] = inputData[numpy.random.choice(row)]\n",
    "\n",
    "    array = []\n",
    "    dframe = numpy.zeros((row, k_value))\n",
    "    \n",
    "    for i in range(iterations):\n",
    "        for j in range(k_value):\n",
    "            for n in range(row):\n",
    "                dframe[n,k] = p1[k]*multivariate_normal.pdf(inputData[n], m1[j], c1[j])\n",
    "\n",
    "        for k in range(k_value):\n",
    "            dframe[:, k] = p1[k] * multivariate_normal.pdf(inputData, m1[k], c1[k])\n",
    "            for n in range(row):\n",
    "                r1[n,k] = dframe[n,k] / dframe[n,:].sum()\n",
    "            \n",
    "        r1 = dframe/ dframe.sum()\n",
    "\n",
    "        for k in range(k_value):\n",
    "            value_comp = r1[:,k].sum()\n",
    "            p1[k] = value_comp / row\n",
    "            m1[k] = r1[:,k].dot(inputData) / value_comp\n",
    "            d = inputData - m1[k]\n",
    "            theta_dist = numpy.expand_dims(r1[:,k], -1) * d\n",
    "            c1[k] = theta_dist.T.dot(d) / value_comp + numpy.eye(column)*alpha\n",
    "\n",
    "        listAppend = numpy.log(dframe.sum()).sum()\n",
    "        \n",
    "        array.append(listAppend)\n",
    "        if i > 0:\n",
    "            if numpy.abs(array[i] - array[i - 1]) < 0.1:\n",
    "                break\n",
    "\n",
    "    cluster = numpy.random.random((k_value, 3))\n",
    "    \n",
    "    return r1"
   ]
  },
  {
   "cell_type": "code",
   "execution_count": null,
   "metadata": {},
   "outputs": [],
   "source": []
  }
 ],
 "metadata": {
  "kernelspec": {
   "display_name": "Python 3",
   "language": "python",
   "name": "python3"
  },
  "language_info": {
   "codemirror_mode": {
    "name": "ipython",
    "version": 3
   },
   "file_extension": ".py",
   "mimetype": "text/x-python",
   "name": "python",
   "nbconvert_exporter": "python",
   "pygments_lexer": "ipython3",
   "version": "3.7.8"
  }
 },
 "nbformat": 4,
 "nbformat_minor": 4
}
